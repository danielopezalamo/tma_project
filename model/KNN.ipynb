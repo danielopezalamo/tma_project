{
 "cells": [
  {
   "cell_type": "code",
   "execution_count": 2,
   "metadata": {},
   "outputs": [],
   "source": [
    "import pandas as pd\n",
    "import numpy as np\n",
    "import matplotlib.pyplot as plt\n",
    "from sklearn.model_selection import train_test_split\n",
    "from sklearn.linear_model import LogisticRegression\n",
    "from sklearn.metrics import classification_report,confusion_matrix\n",
    "from sklearn.neighbors import KNeighborsClassifier\n",
    "from sklearn.preprocessing import StandardScaler\n",
    "%matplotlib inline"
   ]
  },
  {
   "cell_type": "code",
   "execution_count": 3,
   "metadata": {},
   "outputs": [],
   "source": [
    "info_csv = pd.read_csv('../datasets/parsed_dataset.csv')"
   ]
  },
  {
   "cell_type": "code",
   "execution_count": 4,
   "metadata": {},
   "outputs": [],
   "source": [
    "y = info_csv['malicious']\n",
    "X = info_csv.drop('malicious', axis=1)"
   ]
  },
  {
   "cell_type": "code",
   "execution_count": 5,
   "metadata": {},
   "outputs": [],
   "source": [
    "X_train, X_test, y_train, y_test = train_test_split(X,y,\n",
    "                                                    test_size=0.30)"
   ]
  },
  {
   "cell_type": "code",
   "execution_count": 6,
   "metadata": {},
   "outputs": [],
   "source": [
    "knn = KNeighborsClassifier(n_neighbors=1)"
   ]
  },
  {
   "cell_type": "code",
   "execution_count": 7,
   "metadata": {},
   "outputs": [
    {
     "data": {
      "text/html": [
       "<style>#sk-container-id-1 {color: black;background-color: white;}#sk-container-id-1 pre{padding: 0;}#sk-container-id-1 div.sk-toggleable {background-color: white;}#sk-container-id-1 label.sk-toggleable__label {cursor: pointer;display: block;width: 100%;margin-bottom: 0;padding: 0.3em;box-sizing: border-box;text-align: center;}#sk-container-id-1 label.sk-toggleable__label-arrow:before {content: \"▸\";float: left;margin-right: 0.25em;color: #696969;}#sk-container-id-1 label.sk-toggleable__label-arrow:hover:before {color: black;}#sk-container-id-1 div.sk-estimator:hover label.sk-toggleable__label-arrow:before {color: black;}#sk-container-id-1 div.sk-toggleable__content {max-height: 0;max-width: 0;overflow: hidden;text-align: left;background-color: #f0f8ff;}#sk-container-id-1 div.sk-toggleable__content pre {margin: 0.2em;color: black;border-radius: 0.25em;background-color: #f0f8ff;}#sk-container-id-1 input.sk-toggleable__control:checked~div.sk-toggleable__content {max-height: 200px;max-width: 100%;overflow: auto;}#sk-container-id-1 input.sk-toggleable__control:checked~label.sk-toggleable__label-arrow:before {content: \"▾\";}#sk-container-id-1 div.sk-estimator input.sk-toggleable__control:checked~label.sk-toggleable__label {background-color: #d4ebff;}#sk-container-id-1 div.sk-label input.sk-toggleable__control:checked~label.sk-toggleable__label {background-color: #d4ebff;}#sk-container-id-1 input.sk-hidden--visually {border: 0;clip: rect(1px 1px 1px 1px);clip: rect(1px, 1px, 1px, 1px);height: 1px;margin: -1px;overflow: hidden;padding: 0;position: absolute;width: 1px;}#sk-container-id-1 div.sk-estimator {font-family: monospace;background-color: #f0f8ff;border: 1px dotted black;border-radius: 0.25em;box-sizing: border-box;margin-bottom: 0.5em;}#sk-container-id-1 div.sk-estimator:hover {background-color: #d4ebff;}#sk-container-id-1 div.sk-parallel-item::after {content: \"\";width: 100%;border-bottom: 1px solid gray;flex-grow: 1;}#sk-container-id-1 div.sk-label:hover label.sk-toggleable__label {background-color: #d4ebff;}#sk-container-id-1 div.sk-serial::before {content: \"\";position: absolute;border-left: 1px solid gray;box-sizing: border-box;top: 0;bottom: 0;left: 50%;z-index: 0;}#sk-container-id-1 div.sk-serial {display: flex;flex-direction: column;align-items: center;background-color: white;padding-right: 0.2em;padding-left: 0.2em;position: relative;}#sk-container-id-1 div.sk-item {position: relative;z-index: 1;}#sk-container-id-1 div.sk-parallel {display: flex;align-items: stretch;justify-content: center;background-color: white;position: relative;}#sk-container-id-1 div.sk-item::before, #sk-container-id-1 div.sk-parallel-item::before {content: \"\";position: absolute;border-left: 1px solid gray;box-sizing: border-box;top: 0;bottom: 0;left: 50%;z-index: -1;}#sk-container-id-1 div.sk-parallel-item {display: flex;flex-direction: column;z-index: 1;position: relative;background-color: white;}#sk-container-id-1 div.sk-parallel-item:first-child::after {align-self: flex-end;width: 50%;}#sk-container-id-1 div.sk-parallel-item:last-child::after {align-self: flex-start;width: 50%;}#sk-container-id-1 div.sk-parallel-item:only-child::after {width: 0;}#sk-container-id-1 div.sk-dashed-wrapped {border: 1px dashed gray;margin: 0 0.4em 0.5em 0.4em;box-sizing: border-box;padding-bottom: 0.4em;background-color: white;}#sk-container-id-1 div.sk-label label {font-family: monospace;font-weight: bold;display: inline-block;line-height: 1.2em;}#sk-container-id-1 div.sk-label-container {text-align: center;}#sk-container-id-1 div.sk-container {/* jupyter's `normalize.less` sets `[hidden] { display: none; }` but bootstrap.min.css set `[hidden] { display: none !important; }` so we also need the `!important` here to be able to override the default hidden behavior on the sphinx rendered scikit-learn.org. See: https://github.com/scikit-learn/scikit-learn/issues/21755 */display: inline-block !important;position: relative;}#sk-container-id-1 div.sk-text-repr-fallback {display: none;}</style><div id=\"sk-container-id-1\" class=\"sk-top-container\"><div class=\"sk-text-repr-fallback\"><pre>KNeighborsClassifier(n_neighbors=1)</pre><b>In a Jupyter environment, please rerun this cell to show the HTML representation or trust the notebook. <br />On GitHub, the HTML representation is unable to render, please try loading this page with nbviewer.org.</b></div><div class=\"sk-container\" hidden><div class=\"sk-item\"><div class=\"sk-estimator sk-toggleable\"><input class=\"sk-toggleable__control sk-hidden--visually\" id=\"sk-estimator-id-1\" type=\"checkbox\" checked><label for=\"sk-estimator-id-1\" class=\"sk-toggleable__label sk-toggleable__label-arrow\">KNeighborsClassifier</label><div class=\"sk-toggleable__content\"><pre>KNeighborsClassifier(n_neighbors=1)</pre></div></div></div></div></div>"
      ],
      "text/plain": [
       "KNeighborsClassifier(n_neighbors=1)"
      ]
     },
     "execution_count": 7,
     "metadata": {},
     "output_type": "execute_result"
    }
   ],
   "source": [
    "knn.fit(X_train,y_train)"
   ]
  },
  {
   "cell_type": "code",
   "execution_count": 8,
   "metadata": {},
   "outputs": [],
   "source": [
    "pred = knn.predict(X_test)"
   ]
  },
  {
   "cell_type": "code",
   "execution_count": 9,
   "metadata": {},
   "outputs": [
    {
     "name": "stdout",
     "output_type": "stream",
     "text": [
      "[[ 6688   149]\n",
      " [   99 18432]]\n"
     ]
    }
   ],
   "source": [
    "print(confusion_matrix(y_test,pred))"
   ]
  },
  {
   "cell_type": "code",
   "execution_count": 10,
   "metadata": {},
   "outputs": [
    {
     "name": "stdout",
     "output_type": "stream",
     "text": [
      "              precision    recall  f1-score   support\n",
      "\n",
      "           0       0.99      0.98      0.98      6837\n",
      "           1       0.99      0.99      0.99     18531\n",
      "\n",
      "    accuracy                           0.99     25368\n",
      "   macro avg       0.99      0.99      0.99     25368\n",
      "weighted avg       0.99      0.99      0.99     25368\n",
      "\n"
     ]
    }
   ],
   "source": [
    "print(classification_report(y_test,pred))"
   ]
  },
  {
   "cell_type": "code",
   "execution_count": 11,
   "metadata": {},
   "outputs": [],
   "source": [
    "error_rate = []\n",
    "\n",
    "# Will take some time\n",
    "for i in range(1,40):\n",
    "    \n",
    "    knn = KNeighborsClassifier(n_neighbors=i)\n",
    "    knn.fit(X_train,y_train)\n",
    "    pred_i = knn.predict(X_test)\n",
    "    error_rate.append(np.mean(pred_i != y_test))"
   ]
  },
  {
   "cell_type": "code",
   "execution_count": 12,
   "metadata": {},
   "outputs": [
    {
     "data": {
      "text/plain": [
       "Text(0, 0.5, 'Error Rate')"
      ]
     },
     "execution_count": 12,
     "metadata": {},
     "output_type": "execute_result"
    },
    {
     "data": {
      "image/png": "[encoded data removed]",
      "text/plain": [
       "<Figure size 1000x600 with 1 Axes>"
      ]
     },
     "metadata": {},
     "output_type": "display_data"
    }
   ],
   "source": [
    "plt.figure(figsize=(10,6))\n",
    "plt.plot(range(1,40),error_rate,color='blue', linestyle='dashed', marker='o',\n",
    "         markerfacecolor='red', markersize=10)\n",
    "plt.title('Error Rate vs. K Value')\n",
    "plt.xlabel('K')\n",
    "plt.ylabel('Error Rate')"
   ]
  },
  {
   "cell_type": "code",
   "execution_count": 13,
   "metadata": {},
   "outputs": [
    {
     "name": "stdout",
     "output_type": "stream",
     "text": [
      "WITH K=1\n",
      "\n",
      "\n",
      "[[ 6688   149]\n",
      " [   99 18432]]\n",
      "\n",
      "\n",
      "              precision    recall  f1-score   support\n",
      "\n",
      "           0       0.99      0.98      0.98      6837\n",
      "           1       0.99      0.99      0.99     18531\n",
      "\n",
      "    accuracy                           0.99     25368\n",
      "   macro avg       0.99      0.99      0.99     25368\n",
      "weighted avg       0.99      0.99      0.99     25368\n",
      "\n",
      "\n",
      "\n",
      "WITH K=2\n",
      "\n",
      "\n",
      "[[ 6741    96]\n",
      " [  200 18331]]\n",
      "\n",
      "\n",
      "              precision    recall  f1-score   support\n",
      "\n",
      "           0       0.97      0.99      0.98      6837\n",
      "           1       0.99      0.99      0.99     18531\n",
      "\n",
      "    accuracy                           0.99     25368\n",
      "   macro avg       0.98      0.99      0.99     25368\n",
      "weighted avg       0.99      0.99      0.99     25368\n",
      "\n",
      "\n",
      "\n",
      "WITH K=3\n",
      "\n",
      "\n",
      "[[ 6666   171]\n",
      " [   97 18434]]\n",
      "\n",
      "\n",
      "              precision    recall  f1-score   support\n",
      "\n",
      "           0       0.99      0.97      0.98      6837\n",
      "           1       0.99      0.99      0.99     18531\n",
      "\n",
      "    accuracy                           0.99     25368\n",
      "   macro avg       0.99      0.98      0.99     25368\n",
      "weighted avg       0.99      0.99      0.99     25368\n",
      "\n",
      "\n",
      "\n",
      "WITH K=4\n",
      "\n",
      "\n",
      "[[ 6709   128]\n",
      " [  155 18376]]\n",
      "\n",
      "\n",
      "              precision    recall  f1-score   support\n",
      "\n",
      "           0       0.98      0.98      0.98      6837\n",
      "           1       0.99      0.99      0.99     18531\n",
      "\n",
      "    accuracy                           0.99     25368\n",
      "   macro avg       0.99      0.99      0.99     25368\n",
      "weighted avg       0.99      0.99      0.99     25368\n",
      "\n",
      "\n",
      "\n",
      "WITH K=5\n",
      "\n",
      "\n",
      "[[ 6646   191]\n",
      " [  103 18428]]\n",
      "\n",
      "\n",
      "              precision    recall  f1-score   support\n",
      "\n",
      "           0       0.98      0.97      0.98      6837\n",
      "           1       0.99      0.99      0.99     18531\n",
      "\n",
      "    accuracy                           0.99     25368\n",
      "   macro avg       0.99      0.98      0.99     25368\n",
      "weighted avg       0.99      0.99      0.99     25368\n",
      "\n",
      "\n",
      "\n",
      "WITH K=6\n",
      "\n",
      "\n",
      "[[ 6686   151]\n",
      " [  148 18383]]\n",
      "\n",
      "\n",
      "              precision    recall  f1-score   support\n",
      "\n",
      "           0       0.98      0.98      0.98      6837\n",
      "           1       0.99      0.99      0.99     18531\n",
      "\n",
      "    accuracy                           0.99     25368\n",
      "   macro avg       0.99      0.98      0.99     25368\n",
      "weighted avg       0.99      0.99      0.99     25368\n",
      "\n",
      "\n",
      "\n",
      "WITH K=7\n",
      "\n",
      "\n",
      "[[ 6630   207]\n",
      " [  121 18410]]\n",
      "\n",
      "\n",
      "              precision    recall  f1-score   support\n",
      "\n",
      "           0       0.98      0.97      0.98      6837\n",
      "           1       0.99      0.99      0.99     18531\n",
      "\n",
      "    accuracy                           0.99     25368\n",
      "   macro avg       0.99      0.98      0.98     25368\n",
      "weighted avg       0.99      0.99      0.99     25368\n",
      "\n",
      "\n",
      "\n",
      "WITH K=8\n",
      "\n",
      "\n",
      "[[ 6659   178]\n",
      " [  147 18384]]\n",
      "\n",
      "\n",
      "              precision    recall  f1-score   support\n",
      "\n",
      "           0       0.98      0.97      0.98      6837\n",
      "           1       0.99      0.99      0.99     18531\n",
      "\n",
      "    accuracy                           0.99     25368\n",
      "   macro avg       0.98      0.98      0.98     25368\n",
      "weighted avg       0.99      0.99      0.99     25368\n",
      "\n",
      "\n",
      "\n",
      "WITH K=9\n",
      "\n",
      "\n",
      "[[ 6609   228]\n",
      " [  130 18401]]\n",
      "\n",
      "\n",
      "              precision    recall  f1-score   support\n",
      "\n",
      "           0       0.98      0.97      0.97      6837\n",
      "           1       0.99      0.99      0.99     18531\n",
      "\n",
      "    accuracy                           0.99     25368\n",
      "   macro avg       0.98      0.98      0.98     25368\n",
      "weighted avg       0.99      0.99      0.99     25368\n",
      "\n",
      "\n",
      "\n",
      "WITH K=10\n",
      "\n",
      "\n",
      "[[ 6641   196]\n",
      " [  151 18380]]\n",
      "\n",
      "\n",
      "              precision    recall  f1-score   support\n",
      "\n",
      "           0       0.98      0.97      0.97      6837\n",
      "           1       0.99      0.99      0.99     18531\n",
      "\n",
      "    accuracy                           0.99     25368\n",
      "   macro avg       0.98      0.98      0.98     25368\n",
      "weighted avg       0.99      0.99      0.99     25368\n",
      "\n",
      "\n",
      "\n",
      "WITH K=11\n",
      "\n",
      "\n",
      "[[ 6592   245]\n",
      " [  122 18409]]\n",
      "\n",
      "\n",
      "              precision    recall  f1-score   support\n",
      "\n",
      "           0       0.98      0.96      0.97      6837\n",
      "           1       0.99      0.99      0.99     18531\n",
      "\n",
      "    accuracy                           0.99     25368\n",
      "   macro avg       0.98      0.98      0.98     25368\n",
      "weighted avg       0.99      0.99      0.99     25368\n",
      "\n",
      "\n",
      "\n",
      "WITH K=12\n",
      "\n",
      "\n",
      "[[ 6618   219]\n",
      " [  145 18386]]\n",
      "\n",
      "\n",
      "              precision    recall  f1-score   support\n",
      "\n",
      "           0       0.98      0.97      0.97      6837\n",
      "           1       0.99      0.99      0.99     18531\n",
      "\n",
      "    accuracy                           0.99     25368\n",
      "   macro avg       0.98      0.98      0.98     25368\n",
      "weighted avg       0.99      0.99      0.99     25368\n",
      "\n",
      "\n",
      "\n",
      "WITH K=13\n",
      "\n",
      "\n",
      "[[ 6569   268]\n",
      " [  124 18407]]\n",
      "\n",
      "\n",
      "              precision    recall  f1-score   support\n",
      "\n",
      "           0       0.98      0.96      0.97      6837\n",
      "           1       0.99      0.99      0.99     18531\n",
      "\n",
      "    accuracy                           0.98     25368\n",
      "   macro avg       0.98      0.98      0.98     25368\n",
      "weighted avg       0.98      0.98      0.98     25368\n",
      "\n",
      "\n",
      "\n",
      "WITH K=14\n",
      "\n",
      "\n",
      "[[ 6599   238]\n",
      " [  153 18378]]\n",
      "\n",
      "\n",
      "              precision    recall  f1-score   support\n",
      "\n",
      "           0       0.98      0.97      0.97      6837\n",
      "           1       0.99      0.99      0.99     18531\n",
      "\n",
      "    accuracy                           0.98     25368\n",
      "   macro avg       0.98      0.98      0.98     25368\n",
      "weighted avg       0.98      0.98      0.98     25368\n",
      "\n",
      "\n",
      "\n",
      "WITH K=15\n",
      "\n",
      "\n",
      "[[ 6560   277]\n",
      " [  132 18399]]\n",
      "\n",
      "\n",
      "              precision    recall  f1-score   support\n",
      "\n",
      "           0       0.98      0.96      0.97      6837\n",
      "           1       0.99      0.99      0.99     18531\n",
      "\n",
      "    accuracy                           0.98     25368\n",
      "   macro avg       0.98      0.98      0.98     25368\n",
      "weighted avg       0.98      0.98      0.98     25368\n",
      "\n",
      "\n",
      "\n"
     ]
    }
   ],
   "source": [
    "for i in range(1, 16):\n",
    "    knn = KNeighborsClassifier(n_neighbors=i)\n",
    "\n",
    "    knn.fit(X_train,y_train)\n",
    "    pred = knn.predict(X_test)\n",
    "\n",
    "    print('WITH K={}'.format(i))\n",
    "    print('\\n')\n",
    "    print(confusion_matrix(y_test,pred))\n",
    "    print('\\n')\n",
    "    print(classification_report(y_test,pred))\n",
    "    print('\\n')"
   ]
  },
  {
   "cell_type": "code",
   "execution_count": 15,
   "metadata": {},
   "outputs": [
    {
     "name": "stdout",
     "output_type": "stream",
     "text": [
      "WITH K=15\n",
      "\n",
      "\n",
      "[[ 6421   416]\n",
      " [  199 18332]]\n",
      "\n",
      "\n",
      "              precision    recall  f1-score   support\n",
      "\n",
      "           0       0.97      0.94      0.95      6837\n",
      "           1       0.98      0.99      0.98     18531\n",
      "\n",
      "    accuracy                           0.98     25368\n",
      "   macro avg       0.97      0.96      0.97     25368\n",
      "weighted avg       0.98      0.98      0.98     25368\n",
      "\n"
     ]
    }
   ],
   "source": [
    "knn = KNeighborsClassifier(n_neighbors=40)\n",
    "\n",
    "knn.fit(X_train,y_train)\n",
    "pred = knn.predict(X_test)\n",
    "\n",
    "print('WITH K=15')\n",
    "print('\\n')\n",
    "print(confusion_matrix(y_test,pred))\n",
    "print('\\n')\n",
    "print(classification_report(y_test,pred))"
   ]
  }
 ],
 "metadata": {
  "kernelspec": {
   "display_name": "Python 3",
   "language": "python",
   "name": "python3"
  },
  "language_info": {
   "codemirror_mode": {
    "name": "ipython",
    "version": 3
   },
   "file_extension": ".py",
   "mimetype": "text/x-python",
   "name": "python",
   "nbconvert_exporter": "python",
   "pygments_lexer": "ipython3",
   "version": "3.10.9"
  },
  "vscode": {
   "interpreter": {
    "hash": "602bbe8e8fe3127dc2d2bb8f57c49cfbb507be2cc0e090f10eb4c4d0af354b8b"
   }
  }
 },
 "nbformat": 4,
 "nbformat_minor": 2
}
