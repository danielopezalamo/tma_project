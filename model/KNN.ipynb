{
 "cells": [
  {
   "cell_type": "code",
   "execution_count": 1,
   "metadata": {},
   "outputs": [],
   "source": [
    "import pandas as pd\n",
    "import numpy as np\n",
    "import matplotlib.pyplot as plt\n",
    "import seaborn as sns\n",
    "from sklearn.model_selection import train_test_split\n",
    "from sklearn.linear_model import LogisticRegression\n",
    "from sklearn.metrics import classification_report,confusion_matrix\n",
    "from sklearn.neighbors import KNeighborsClassifier\n",
    "from sklearn.preprocessing import StandardScaler\n",
    "%matplotlib inline"
   ]
  },
  {
   "cell_type": "code",
   "execution_count": 2,
   "metadata": {},
   "outputs": [],
   "source": [
    "info_csv = pd.read_csv('../data/complete_transformed_CSV.csv')"
   ]
  },
  {
   "cell_type": "code",
   "execution_count": 3,
   "metadata": {},
   "outputs": [],
   "source": [
    "y = info_csv['malicious']\n",
    "X = info_csv.drop('malicious', axis=1)"
   ]
  },
  {
   "cell_type": "code",
   "execution_count": 4,
   "metadata": {},
   "outputs": [],
   "source": [
    "X_train, X_test, y_train, y_test = train_test_split(X,y,\n",
    "                                                    test_size=0.30)"
   ]
  },
  {
   "cell_type": "code",
   "execution_count": 5,
   "metadata": {},
   "outputs": [],
   "source": [
    "knn = KNeighborsClassifier(n_neighbors=1)"
   ]
  },
  {
   "cell_type": "code",
   "execution_count": 6,
   "metadata": {},
   "outputs": [
    {
     "data": {
      "text/plain": [
       "KNeighborsClassifier(algorithm='auto', leaf_size=30, metric='minkowski',\n",
       "                     metric_params=None, n_jobs=None, n_neighbors=1, p=2,\n",
       "                     weights='uniform')"
      ]
     },
     "execution_count": 6,
     "metadata": {},
     "output_type": "execute_result"
    }
   ],
   "source": [
    "knn.fit(X_train,y_train)"
   ]
  },
  {
   "cell_type": "code",
   "execution_count": 7,
   "metadata": {},
   "outputs": [],
   "source": [
    "pred = knn.predict(X_test)"
   ]
  },
  {
   "cell_type": "code",
   "execution_count": 8,
   "metadata": {},
   "outputs": [
    {
     "name": "stdout",
     "output_type": "stream",
     "text": [
      "[[10651     2]\n",
      " [    1 10455]]\n"
     ]
    }
   ],
   "source": [
    "print(confusion_matrix(y_test,pred))"
   ]
  },
  {
   "cell_type": "code",
   "execution_count": 9,
   "metadata": {},
   "outputs": [
    {
     "name": "stdout",
     "output_type": "stream",
     "text": [
      "              precision    recall  f1-score   support\n",
      "\n",
      "       False       1.00      1.00      1.00     10653\n",
      "        True       1.00      1.00      1.00     10456\n",
      "\n",
      "    accuracy                           1.00     21109\n",
      "   macro avg       1.00      1.00      1.00     21109\n",
      "weighted avg       1.00      1.00      1.00     21109\n",
      "\n"
     ]
    }
   ],
   "source": [
    "print(classification_report(y_test,pred))"
   ]
  },
  {
   "cell_type": "code",
   "execution_count": 10,
   "metadata": {},
   "outputs": [],
   "source": [
    "error_rate = []\n",
    "\n",
    "# Will take some time\n",
    "for i in range(1,40):\n",
    "    \n",
    "    knn = KNeighborsClassifier(n_neighbors=i)\n",
    "    knn.fit(X_train,y_train)\n",
    "    pred_i = knn.predict(X_test)\n",
    "    error_rate.append(np.mean(pred_i != y_test))"
   ]
  },
  {
   "cell_type": "code",
   "execution_count": 11,
   "metadata": {},
   "outputs": [
    {
     "data": {
      "text/plain": [
       "Text(0, 0.5, 'Error Rate')"
      ]
     },
     "execution_count": 11,
     "metadata": {},
     "output_type": "execute_result"
    },
    {
     "data": {
      "image/png": "[encoded data removed]",
      "text/plain": [
       "<Figure size 720x432 with 1 Axes>"
      ]
     },
     "metadata": {
      "needs_background": "light"
     },
     "output_type": "display_data"
    }
   ],
   "source": [
    "plt.figure(figsize=(10,6))\n",
    "plt.plot(range(1,40),error_rate,color='blue', linestyle='dashed', marker='o',\n",
    "         markerfacecolor='red', markersize=10)\n",
    "plt.title('Error Rate vs. K Value')\n",
    "plt.xlabel('K')\n",
    "plt.ylabel('Error Rate')"
   ]
  },
  {
   "cell_type": "code",
   "execution_count": 12,
   "metadata": {},
   "outputs": [
    {
     "name": "stdout",
     "output_type": "stream",
     "text": [
      "WITH K=1\n",
      "\n",
      "\n",
      "[[10651     2]\n",
      " [    1 10455]]\n",
      "\n",
      "\n",
      "              precision    recall  f1-score   support\n",
      "\n",
      "       False       1.00      1.00      1.00     10653\n",
      "        True       1.00      1.00      1.00     10456\n",
      "\n",
      "    accuracy                           1.00     21109\n",
      "   macro avg       1.00      1.00      1.00     21109\n",
      "weighted avg       1.00      1.00      1.00     21109\n",
      "\n",
      "\n",
      "\n",
      "WITH K=2\n",
      "\n",
      "\n",
      "[[10651     2]\n",
      " [    4 10452]]\n",
      "\n",
      "\n",
      "              precision    recall  f1-score   support\n",
      "\n",
      "       False       1.00      1.00      1.00     10653\n",
      "        True       1.00      1.00      1.00     10456\n",
      "\n",
      "    accuracy                           1.00     21109\n",
      "   macro avg       1.00      1.00      1.00     21109\n",
      "weighted avg       1.00      1.00      1.00     21109\n",
      "\n",
      "\n",
      "\n",
      "WITH K=3\n",
      "\n",
      "\n",
      "[[10651     2]\n",
      " [    4 10452]]\n",
      "\n",
      "\n",
      "              precision    recall  f1-score   support\n",
      "\n",
      "       False       1.00      1.00      1.00     10653\n",
      "        True       1.00      1.00      1.00     10456\n",
      "\n",
      "    accuracy                           1.00     21109\n",
      "   macro avg       1.00      1.00      1.00     21109\n",
      "weighted avg       1.00      1.00      1.00     21109\n",
      "\n",
      "\n",
      "\n",
      "WITH K=4\n",
      "\n",
      "\n",
      "[[10651     2]\n",
      " [    4 10452]]\n",
      "\n",
      "\n",
      "              precision    recall  f1-score   support\n",
      "\n",
      "       False       1.00      1.00      1.00     10653\n",
      "        True       1.00      1.00      1.00     10456\n",
      "\n",
      "    accuracy                           1.00     21109\n",
      "   macro avg       1.00      1.00      1.00     21109\n",
      "weighted avg       1.00      1.00      1.00     21109\n",
      "\n",
      "\n",
      "\n",
      "WITH K=5\n",
      "\n",
      "\n",
      "[[10646     7]\n",
      " [    4 10452]]\n",
      "\n",
      "\n",
      "              precision    recall  f1-score   support\n",
      "\n",
      "       False       1.00      1.00      1.00     10653\n",
      "        True       1.00      1.00      1.00     10456\n",
      "\n",
      "    accuracy                           1.00     21109\n",
      "   macro avg       1.00      1.00      1.00     21109\n",
      "weighted avg       1.00      1.00      1.00     21109\n",
      "\n",
      "\n",
      "\n",
      "WITH K=6\n",
      "\n",
      "\n",
      "[[10646     7]\n",
      " [    4 10452]]\n",
      "\n",
      "\n",
      "              precision    recall  f1-score   support\n",
      "\n",
      "       False       1.00      1.00      1.00     10653\n",
      "        True       1.00      1.00      1.00     10456\n",
      "\n",
      "    accuracy                           1.00     21109\n",
      "   macro avg       1.00      1.00      1.00     21109\n",
      "weighted avg       1.00      1.00      1.00     21109\n",
      "\n",
      "\n",
      "\n",
      "WITH K=7\n",
      "\n",
      "\n",
      "[[10646     7]\n",
      " [    4 10452]]\n",
      "\n",
      "\n",
      "              precision    recall  f1-score   support\n",
      "\n",
      "       False       1.00      1.00      1.00     10653\n",
      "        True       1.00      1.00      1.00     10456\n",
      "\n",
      "    accuracy                           1.00     21109\n",
      "   macro avg       1.00      1.00      1.00     21109\n",
      "weighted avg       1.00      1.00      1.00     21109\n",
      "\n",
      "\n",
      "\n",
      "WITH K=8\n",
      "\n",
      "\n",
      "[[10646     7]\n",
      " [    4 10452]]\n",
      "\n",
      "\n",
      "              precision    recall  f1-score   support\n",
      "\n",
      "       False       1.00      1.00      1.00     10653\n",
      "        True       1.00      1.00      1.00     10456\n",
      "\n",
      "    accuracy                           1.00     21109\n",
      "   macro avg       1.00      1.00      1.00     21109\n",
      "weighted avg       1.00      1.00      1.00     21109\n",
      "\n",
      "\n",
      "\n",
      "WITH K=9\n",
      "\n",
      "\n",
      "[[10646     7]\n",
      " [    4 10452]]\n",
      "\n",
      "\n",
      "              precision    recall  f1-score   support\n",
      "\n",
      "       False       1.00      1.00      1.00     10653\n",
      "        True       1.00      1.00      1.00     10456\n",
      "\n",
      "    accuracy                           1.00     21109\n",
      "   macro avg       1.00      1.00      1.00     21109\n",
      "weighted avg       1.00      1.00      1.00     21109\n",
      "\n",
      "\n",
      "\n",
      "WITH K=10\n",
      "\n",
      "\n",
      "[[10646     7]\n",
      " [    4 10452]]\n",
      "\n",
      "\n",
      "              precision    recall  f1-score   support\n",
      "\n",
      "       False       1.00      1.00      1.00     10653\n",
      "        True       1.00      1.00      1.00     10456\n",
      "\n",
      "    accuracy                           1.00     21109\n",
      "   macro avg       1.00      1.00      1.00     21109\n",
      "weighted avg       1.00      1.00      1.00     21109\n",
      "\n",
      "\n",
      "\n",
      "WITH K=11\n",
      "\n",
      "\n",
      "[[10646     7]\n",
      " [    4 10452]]\n",
      "\n",
      "\n",
      "              precision    recall  f1-score   support\n",
      "\n",
      "       False       1.00      1.00      1.00     10653\n",
      "        True       1.00      1.00      1.00     10456\n",
      "\n",
      "    accuracy                           1.00     21109\n",
      "   macro avg       1.00      1.00      1.00     21109\n",
      "weighted avg       1.00      1.00      1.00     21109\n",
      "\n",
      "\n",
      "\n",
      "WITH K=12\n",
      "\n",
      "\n",
      "[[10646     7]\n",
      " [    5 10451]]\n",
      "\n",
      "\n",
      "              precision    recall  f1-score   support\n",
      "\n",
      "       False       1.00      1.00      1.00     10653\n",
      "        True       1.00      1.00      1.00     10456\n",
      "\n",
      "    accuracy                           1.00     21109\n",
      "   macro avg       1.00      1.00      1.00     21109\n",
      "weighted avg       1.00      1.00      1.00     21109\n",
      "\n",
      "\n",
      "\n",
      "WITH K=13\n",
      "\n",
      "\n",
      "[[10646     7]\n",
      " [    5 10451]]\n",
      "\n",
      "\n",
      "              precision    recall  f1-score   support\n",
      "\n",
      "       False       1.00      1.00      1.00     10653\n",
      "        True       1.00      1.00      1.00     10456\n",
      "\n",
      "    accuracy                           1.00     21109\n",
      "   macro avg       1.00      1.00      1.00     21109\n",
      "weighted avg       1.00      1.00      1.00     21109\n",
      "\n",
      "\n",
      "\n",
      "WITH K=14\n",
      "\n",
      "\n",
      "[[10646     7]\n",
      " [    5 10451]]\n",
      "\n",
      "\n",
      "              precision    recall  f1-score   support\n",
      "\n",
      "       False       1.00      1.00      1.00     10653\n",
      "        True       1.00      1.00      1.00     10456\n",
      "\n",
      "    accuracy                           1.00     21109\n",
      "   macro avg       1.00      1.00      1.00     21109\n",
      "weighted avg       1.00      1.00      1.00     21109\n",
      "\n",
      "\n",
      "\n",
      "WITH K=15\n",
      "\n",
      "\n",
      "[[10646     7]\n",
      " [    5 10451]]\n",
      "\n",
      "\n",
      "              precision    recall  f1-score   support\n",
      "\n",
      "       False       1.00      1.00      1.00     10653\n",
      "        True       1.00      1.00      1.00     10456\n",
      "\n",
      "    accuracy                           1.00     21109\n",
      "   macro avg       1.00      1.00      1.00     21109\n",
      "weighted avg       1.00      1.00      1.00     21109\n",
      "\n",
      "\n",
      "\n"
     ]
    }
   ],
   "source": [
    "for i in range(1, 16):\n",
    "    knn = KNeighborsClassifier(n_neighbors=i)\n",
    "\n",
    "    knn.fit(X_train,y_train)\n",
    "    pred = knn.predict(X_test)\n",
    "\n",
    "    print('WITH K={}'.format(i))\n",
    "    print('\\n')\n",
    "    print(confusion_matrix(y_test,pred))\n",
    "    print('\\n')\n",
    "    print(classification_report(y_test,pred))\n",
    "    print('\\n')"
   ]
  },
  {
   "cell_type": "code",
   "execution_count": 13,
   "metadata": {},
   "outputs": [
    {
     "name": "stdout",
     "output_type": "stream",
     "text": [
      "WITH K=15\n",
      "\n",
      "\n",
      "[[10646     7]\n",
      " [    5 10451]]\n",
      "\n",
      "\n",
      "              precision    recall  f1-score   support\n",
      "\n",
      "       False       1.00      1.00      1.00     10653\n",
      "        True       1.00      1.00      1.00     10456\n",
      "\n",
      "    accuracy                           1.00     21109\n",
      "   macro avg       1.00      1.00      1.00     21109\n",
      "weighted avg       1.00      1.00      1.00     21109\n",
      "\n"
     ]
    }
   ],
   "source": [
    "knn = KNeighborsClassifier(n_neighbors=15)\n",
    "\n",
    "knn.fit(X_train,y_train)\n",
    "pred = knn.predict(X_test)\n",
    "\n",
    "print('WITH K=15')\n",
    "print('\\n')\n",
    "print(confusion_matrix(y_test,pred))\n",
    "print('\\n')\n",
    "print(classification_report(y_test,pred))"
   ]
  }
 ],
 "metadata": {
  "kernelspec": {
   "display_name": "Python 3",
   "language": "python",
   "name": "python3"
  },
  "language_info": {
   "codemirror_mode": {
    "name": "ipython",
    "version": 3
   },
   "file_extension": ".py",
   "mimetype": "text/x-python",
   "name": "python",
   "nbconvert_exporter": "python",
   "pygments_lexer": "ipython3",
   "version": "3.7.4"
  }
 },
 "nbformat": 4,
 "nbformat_minor": 2
}
